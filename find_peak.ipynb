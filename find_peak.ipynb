{
 "cells": [
  {
   "cell_type": "code",
   "execution_count": 1,
   "id": "e1f31c0d",
   "metadata": {},
   "outputs": [],
   "source": [
    "import numpy as np\n",
    "import matplotlib.pyplot as plt\n",
    "from scipy.signal import find_peaks"
   ]
  },
  {
   "cell_type": "code",
   "execution_count": 2,
   "id": "f01c12ca",
   "metadata": {},
   "outputs": [],
   "source": [
    " def detect_laser_peak(wavelength, flux, width_range=(1, 5), height_fraction=0.1):\n",
    "    \"\"\"\n",
    "    Detect a narrow injected laser peak in a spectrum.\n",
    "\n",
    "    Parameters:\n",
    "    ----------\n",
    "    wavelength : array-like\n",
    "        Wavelength axis (same shape as flux).\n",
    "    flux : array-like\n",
    "        Flux values.\n",
    "    width_range : tuple\n",
    "        Expected width range (in pixels) for the laser peak.\n",
    "    height_fraction : float\n",
    "        Fraction of max flux to use as a minimum height threshold.\n",
    "\n",
    "    Returns:\n",
    "    -------\n",
    "    peak_indices : array\n",
    "        Indices of detected peaks.\n",
    "    peak_wavelengths : array\n",
    "        Wavelengths of detected peaks.\n",
    "    \"\"\"\n",
    "\n",
    "    # Set dynamic threshold: 10% of max flux by default\n",
    "    height_threshold = height_fraction * np.nanmax(flux)\n",
    "\n",
    "    # Detect peaks\n",
    "    peak_indices, properties = find_peaks(\n",
    "        flux,\n",
    "        height=height_threshold,\n",
    "        width=width_range\n",
    "    )\n",
    "\n",
    "    peak_wavelengths = wavelength[peak_indices]\n",
    "\n",
    "    # Optional: plot\n",
    "    plt.figure(figsize=(12, 5))\n",
    "    plt.plot(wavelength, flux, label=\"Spectrum\")\n",
    "    plt.plot(wavelength[peak_indices], flux[peak_indices], 'rx', label=\"Detected Peaks\")\n",
    "    plt.xlabel(\"Wavelength (Å)\")\n",
    "    plt.ylabel(\"Flux (Counts)\")\n",
    "    plt.title(\"Laser Peak Detection\")\n",
    "    plt.legend()\n",
    "    plt.tight_layout()\n",
    "    plt.show()\n",
    "\n",
    "    return peak_indices, peak_wavelengths\n"
   ]
  },
  {
   "cell_type": "code",
   "execution_count": null,
   "id": "157d7713",
   "metadata": {},
   "outputs": [],
   "source": []
  }
 ],
 "metadata": {
  "kernelspec": {
   "display_name": "my_custom_env",
   "language": "python",
   "name": "python3"
  },
  "language_info": {
   "codemirror_mode": {
    "name": "ipython",
    "version": 3
   },
   "file_extension": ".py",
   "mimetype": "text/x-python",
   "name": "python",
   "nbconvert_exporter": "python",
   "pygments_lexer": "ipython3",
   "version": "3.12.3"
  }
 },
 "nbformat": 4,
 "nbformat_minor": 5
}
