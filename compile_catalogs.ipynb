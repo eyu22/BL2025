{
 "cells": [
  {
   "cell_type": "markdown",
   "id": "c6c17e98",
   "metadata": {},
   "source": [
    "# Compile Catalogs"
   ]
  },
  {
   "cell_type": "code",
   "execution_count": 2,
   "id": "a151b81d",
   "metadata": {},
   "outputs": [],
   "source": [
    "#from astroquery.gaia import Gaia\n",
    "import pandas as pd\n",
    "import matplotlib.pyplot as plt\n",
    "import astropy.units as u\n",
    "from astropy.coordinates import SkyCoord, match_coordinates_sky\n",
    "from astropy.io import fits\n",
    "from astropy.table import Table\n",
    "import numpy as np\n",
    "from astropy.io.ascii import read"
   ]
  },
  {
   "cell_type": "markdown",
   "id": "95d568c2",
   "metadata": {},
   "source": [
    "## Import Catalogs"
   ]
  },
  {
   "cell_type": "code",
   "execution_count": 5,
   "id": "c896dfdf",
   "metadata": {},
   "outputs": [
    {
     "data": {
      "text/plain": [
       "<TableColumns names=('GaiaEDR3','RAdeg','e_RAdeg','DEdeg','e_DEdeg','Plx','e_Plx','pmRA','e_pmRA','pmDE','e_pmDE','Gmag','RFG','BPmag','RFBP','RPmag','RFRP','E(BP/RP)','RUWE','IPDfmp','RV','e_RV','r_RV','f_RV','GCNSprob','WDprob','Dist1','Dist16','Dist50','Dist84','xcoord50','xcoord16','xcoord84','ycoord50','ycoord16','ycoord84','zcoord50','zcoord16','zcoord84','Uvel50','Uvel16','Uvel84','Vvel50','Vvel16','Vvel84','Wvel50','Wvel16','Wvel84','GUNN','r_GUNN','gmag','e_gmag','rmag','e_rmag','imag','e_imag','zmag','e_zmag','2MASS','Jmag','e_Jmag','Hmag','e_Hmag','Ksmag','e_Ksmag','WISE','W1mag','e_W1mag','W2mag','e_W2mag','W3mag','e_W3mag','W4mag','e_W4mag')>"
      ]
     },
     "execution_count": 5,
     "metadata": {},
     "output_type": "execute_result"
    }
   ],
   "source": [
    "# Open the GCNS catalog\n",
    "# https://arxiv.org/abs/2012.02061\n",
    "# Parse using the ReadMe:\n",
    "gcns = read('/datax/scratch/emmay/GCNS/table1c.dat', format='cds', readme='/datax/scratch/emmay/GCNS/ReadMe')\n",
    "gcns.columns"
   ]
  },
  {
   "cell_type": "code",
   "execution_count": 7,
   "id": "b14771f2",
   "metadata": {},
   "outputs": [],
   "source": [
    "# Open the Gaia-ESO file\n",
    "# https://doi.eso.org/10.18727/archive/25\n",
    "hdulist = fits.open('/datax/scratch/emmay/GaiaESO/result_ervvfchjzcb7sbg9.fits')\n",
    "catalog_hdu = hdulist[1]\n",
    "GaiaESO = catalog_hdu.data"
   ]
  },
  {
   "cell_type": "code",
   "execution_count": 8,
   "id": "5c4e2004",
   "metadata": {},
   "outputs": [
    {
     "data": {
      "text/plain": [
       "14205"
      ]
     },
     "execution_count": 8,
     "metadata": {},
     "output_type": "execute_result"
    }
   ],
   "source": [
    "# Open the NEID file\n",
    "# https://neid.ipac.caltech.edu/search_advanced.php\n",
    "neid = Table.read('/datax/scratch/emmay/NEID/table_Level-2.csv')\n",
    "# Clean mask on full NEID table\n",
    "mask = (\n",
    "    (neid['qra'] != None) & (neid['qdec'] != None) &\n",
    "    (neid['qra'] != '') & (neid['qdec'] != '') &\n",
    "    (neid['qra'] != 'None') & (neid['qdec'] != 'None')\n",
    ")\n",
    "\n",
    "# Apply mask ONCE to get clean NEID\n",
    "neid_clean = neid[mask]\n",
    "len(neid_clean)"
   ]
  },
  {
   "cell_type": "code",
   "execution_count": 9,
   "id": "b8b5f9b1",
   "metadata": {},
   "outputs": [],
   "source": [
    "# Open the HIRES file\n",
    "# https://koa.ipac.caltech.edu/cgi-bin/KOA/nph-KOAlogin\n",
    "hires = Table.read('/datax/scratch/emmay/HIRES/hires.csv')\n",
    "mask = np.isfinite(hires['ra']) & np.isfinite(hires['dec'])\n",
    "mask &= (~hires['ra'].mask) & (~hires['dec'].mask)\n",
    "mask &= hires['dec'] <=90\n",
    "hires_clean = hires[mask]"
   ]
  },
  {
   "cell_type": "code",
   "execution_count": 10,
   "id": "35707833",
   "metadata": {},
   "outputs": [
    {
     "data": {
      "text/plain": [
       "90.03"
      ]
     },
     "execution_count": 10,
     "metadata": {},
     "output_type": "execute_result"
    }
   ],
   "source": [
    "max(hires['dec'])"
   ]
  },
  {
   "cell_type": "code",
   "execution_count": 11,
   "id": "39dc5936",
   "metadata": {},
   "outputs": [],
   "source": [
    "# Open HARPS\n",
    "with fits.open('/datax/scratch/emmay/HARPS/J_A+A_636_A74_list.dat.fits') as hdul:\n",
    "    data = hdul[1].data\n",
    "\n",
    "# Convert to Pandas for easy cleaning\n",
    "df = pd.DataFrame(data.tolist(), columns=data.columns.names)\n",
    "\n",
    "for col in ['RAh', 'RAm', 'RAs', 'DE-', 'DEd', 'DEm', 'DEs']:\n",
    "    # Decode bytes -> string -> strip -> safe for numeric\n",
    "    df[col] = df[col].apply(lambda x: x.decode('utf-8').strip())\n",
    "\n",
    "# Now convert numeric parts to float\n",
    "df['RAh'] = df['RAh'].astype(float)\n",
    "df['RAm'] = df['RAm'].astype(float)\n",
    "df['RAs'] = df['RAs'].astype(float)\n",
    "\n",
    "df['DEd'] = df['DEd'].astype(float)\n",
    "df['DEm'] = df['DEm'].astype(float)\n",
    "df['DEs'] = df['DEs'].astype(float)\n",
    "\n",
    "# DE- stays string\n",
    "df['DE-'] = df['DE-'].astype(str).str.strip()\n",
    "\n",
    "# Compute RA in decimal degrees\n",
    "df['RA_deg'] = (df['RAh'] + df['RAm']/60 + df['RAs']/3600) * 15\n",
    "\n",
    "# Compute Dec with sign\n",
    "sign = np.where(df['DE-'] == '-', -1, 1)\n",
    "df['Dec_deg'] = sign * (df['DEd'] + df['DEm']/60 + df['DEs']/3600)\n",
    "\n",
    "harps = Table.from_pandas(df)\n"
   ]
  },
  {
   "cell_type": "code",
   "execution_count": 12,
   "id": "9999207b",
   "metadata": {},
   "outputs": [
    {
     "data": {
      "text/plain": [
       "astropy.io.fits.fitsrec.FITS_rec"
      ]
     },
     "execution_count": 12,
     "metadata": {},
     "output_type": "execute_result"
    }
   ],
   "source": [
    "# Open APOGEE\n",
    "hdulist = fits.open('/datax/scratch/emmay/APOGEE/allStarLite-dr17-synspec_rev1.fits')\n",
    "catalog_hdu = hdulist[1]\n",
    "apogee = catalog_hdu.data\n",
    "mask = ~np.isnan(apogee['RA']) & ~np.isnan(apogee['DEC'])\n",
    "apogee = apogee[mask]\n",
    "type(apogee)"
   ]
  },
  {
   "cell_type": "markdown",
   "id": "c6db0c00",
   "metadata": {},
   "source": [
    "## Some Sanity Checks\n",
    "Comparing with https://github.com/jradavenport/spectro100/blob/main/gathering%20data.ipynb"
   ]
  },
  {
   "cell_type": "code",
   "execution_count": 13,
   "id": "9ebca6b9",
   "metadata": {},
   "outputs": [
    {
     "data": {
      "text/plain": [
       "<matplotlib.collections.PathCollection at 0x7f695d9e3750>"
      ]
     },
     "execution_count": 13,
     "metadata": {},
     "output_type": "execute_result"
    },
    {
     "data": {
      "image/png": "[encoded data removed]",
      "text/plain": [
       "<Figure size 432x288 with 1 Axes>"
      ]
     },
     "metadata": {
      "needs_background": "light"
     },
     "output_type": "display_data"
    }
   ],
   "source": [
    "# Sanity check of RA vs DEC plot compared to Jim's\n",
    "plt.figure()\n",
    "plt.scatter(GaiaESO['RA'], GaiaESO['DECLINATION'], s=5, alpha=0.5)"
   ]
  },
  {
   "cell_type": "code",
   "execution_count": 14,
   "id": "a9efb6e3",
   "metadata": {},
   "outputs": [],
   "source": [
    "GCNS_C = SkyCoord(ra=gcns['RAdeg'], dec=gcns['DEdeg'], frame='icrs')\n",
    "GaiaESO_C = SkyCoord(ra=GaiaESO['RA']*u.degree, dec=GaiaESO['DECLINATION']*u.degree)\n"
   ]
  },
  {
   "cell_type": "code",
   "execution_count": 15,
   "id": "58fdb9dc",
   "metadata": {},
   "outputs": [
    {
     "name": "stdout",
     "output_type": "stream",
     "text": [
      "147\n"
     ]
    }
   ],
   "source": [
    "# Again, good sanity check - matches with what Jim got\n",
    "Gdx = GCNS_C.match_to_catalog_sky(GaiaESO_C)\n",
    "Gmtch = Gdx[0][Gdx[1].to('arcsec').value < 5]\n",
    "print(sum(Gdx[1].to('arcsec').value < 5))"
   ]
  },
  {
   "cell_type": "markdown",
   "id": "a251cf15",
   "metadata": {},
   "source": [
    "## Crossmatching with GCNS"
   ]
  },
  {
   "cell_type": "code",
   "execution_count": 16,
   "id": "a99f3955",
   "metadata": {},
   "outputs": [],
   "source": [
    "# 1) Use match_to_catalog_sky \n",
    "idx, d2d, _ = GCNS_C.match_to_catalog_sky(GaiaESO_C)\n",
    "\n",
    "# 2) Limit to matches within 2 arcsec\n",
    "matches = d2d < 2 * u.arcsec\n",
    "\n",
    "# 3) Prepare arrays\n",
    "is_in_GaiaESO = np.zeros(len(gcns), dtype=int)\n",
    "GaiaESO_name = np.full(len(gcns), np.nan, dtype=object)\n",
    "\n",
    "# 4) Fill only for matched rows\n",
    "is_in_GaiaESO[matches] = 1\n",
    "GaiaESO_name[matches] = GaiaESO['OBJECT'][idx[matches]]\n",
    "\n",
    "# 5) Store in new copy\n",
    "catalog_summary = gcns[\"GaiaEDR3\", \"RAdeg\", \"DEdeg\", \"Dist50\", \"Gmag\", \"BPmag\", \"RPmag\"].copy()\n",
    "catalog_summary['is_in_GaiaESO'] = is_in_GaiaESO\n",
    "catalog_summary['GaiaESO_name'] = GaiaESO_name\n",
    "catalog_summary.rename_column('GaiaEDR3', 'GCNS_name')\n",
    "catalog_summary.rename_column('RAdeg', 'GCNS_RA')\n",
    "catalog_summary.rename_column('DEdeg', 'GCNS_DEC')\n"
   ]
  },
  {
   "cell_type": "code",
   "execution_count": 17,
   "id": "4302d3cd",
   "metadata": {},
   "outputs": [
    {
     "data": {
      "text/html": [
       "<i>Table length=121</i>\n",
       "<table id=\"table140090509518800\" class=\"table-striped table-bordered table-condensed\">\n",
       "<thead><tr><th>GCNS_name</th><th>GCNS_RA</th><th>GCNS_DEC</th><th>Dist50</th><th>Gmag</th><th>BPmag</th><th>RPmag</th><th>is_in_GaiaESO</th><th>GaiaESO_name</th></tr></thead>\n",
       "<thead><tr><th></th><th>deg</th><th>deg</th><th>kpc</th><th>mag</th><th>mag</th><th>mag</th><th></th><th></th></tr></thead>\n",
       "<thead><tr><th>int64</th><th>float64</th><th>float64</th><th>float64</th><th>float64</th><th>float64</th><th>float64</th><th>int64</th><th>object</th></tr></thead>\n",
       "<tr><td>2336728947968831104</td><td>1.8871494</td><td>-23.8183163</td><td>0.0328</td><td>8.4831</td><td>8.8938</td><td>7.8974</td><td>1</td><td>00073283-2349062</td></tr>\n",
       "<tr><td>2445242288839432704</td><td>2.5260238</td><td>-3.3400922</td><td>0.04808</td><td>19.0171</td><td>21.7712</td><td>17.4335</td><td>1</td><td>00100625-0320247</td></tr>\n",
       "<tr><td>4918806107423681920</td><td>4.6915643</td><td>-57.6499893</td><td>0.0808</td><td>18.5364</td><td>20.904</td><td>17.0725</td><td>1</td><td>00184592-5738599</td></tr>\n",
       "<tr><td>2528577058247110784</td><td>7.5079263</td><td>-3.4888476</td><td>0.1149</td><td>19.8301</td><td>21.4244</td><td>18.1984</td><td>1</td><td>00300188-0329196</td></tr>\n",
       "<tr><td>5001454888951528704</td><td>15.0923768</td><td>-36.9642585</td><td>0.07851</td><td>15.8738</td><td>17.5254</td><td>14.6402</td><td>1</td><td>01002215-3657513</td></tr>\n",
       "<tr><td>2584834502690477312</td><td>16.5533881</td><td>13.2526955</td><td>0.05466</td><td>8.0189</td><td>8.3152</td><td>7.5048</td><td>1</td><td>01061278+1315096</td></tr>\n",
       "<tr><td>2531223307857060096</td><td>17.7622438</td><td>-3.5432802</td><td>0.10205</td><td>17.6236</td><td>19.5043</td><td>16.3161</td><td>1</td><td>01110292-0332351</td></tr>\n",
       "<tr><td>4983718632524887936</td><td>19.7219476</td><td>-42.460977</td><td>0.10563</td><td>18.8423</td><td>20.1053</td><td>17.4086</td><td>1</td><td>01185326-4227395</td></tr>\n",
       "<tr><td>4933763008912052608</td><td>20.2000862</td><td>-47.0698809</td><td>0.09292</td><td>18.2377</td><td>20.4664</td><td>16.8284</td><td>1</td><td>01204794-4704114</td></tr>\n",
       "<tr><td>...</td><td>...</td><td>...</td><td>...</td><td>...</td><td>...</td><td>...</td><td>...</td><td>...</td></tr>\n",
       "<tr><td>2621235553114746112</td><td>337.4825553</td><td>-8.4190754</td><td>0.07067</td><td>8.196</td><td>8.4584</td><td>7.7616</td><td>1</td><td>22295580-0825086</td></tr>\n",
       "<tr><td>2595795289294541440</td><td>337.4952552</td><td>-16.4690715</td><td>0.0509</td><td>8.0193</td><td>8.3119</td><td>7.5558</td><td>1</td><td>22295886-1628087</td></tr>\n",
       "<tr><td>2601277488630223104</td><td>337.5069119</td><td>-12.9151184</td><td>0.07329</td><td>6.3412</td><td>6.502</td><td>6.0466</td><td>1</td><td>22300166-1254544</td></tr>\n",
       "<tr><td>2623432407411715712</td><td>340.0518203</td><td>-6.5346231</td><td>0.09159</td><td>6.9898</td><td>7.346</td><td>6.4644</td><td>1</td><td>22401243-0632046</td></tr>\n",
       "<tr><td>1887488288072054656</td><td>340.4391608</td><td>29.3075127</td><td>0.0859</td><td>4.7996</td><td>4.7798</td><td>4.7606</td><td>1</td><td>22414540+2918271</td></tr>\n",
       "<tr><td>2635385816792952960</td><td>347.5516496</td><td>-4.9115875</td><td>0.07405</td><td>19.0648</td><td>21.0527</td><td>17.5926</td><td>1</td><td>23101239-0454414</td></tr>\n",
       "<tr><td>6492009884433939968</td><td>349.9742965</td><td>-59.9729554</td><td>0.04466</td><td>16.9085</td><td>17.0275</td><td>16.6843</td><td>1</td><td>23195383-5958225</td></tr>\n",
       "<tr><td>6527032220295662208</td><td>350.0302606</td><td>-48.1409433</td><td>0.06519</td><td>17.324</td><td>17.488</td><td>17.0328</td><td>1</td><td>23200724-4808273</td></tr>\n",
       "<tr><td>2434157051262295936</td><td>353.9675176</td><td>-10.0259385</td><td>0.11166</td><td>19.8992</td><td>21.5246</td><td>18.4315</td><td>1</td><td>23355223-1001330</td></tr>\n",
       "<tr><td>2419060687894130432</td><td>359.0842364</td><td>-14.928217</td><td>0.08118</td><td>17.8432</td><td>20.543</td><td>16.3451</td><td>1</td><td>23562019-1455414</td></tr>\n",
       "</table>"
      ],
      "text/plain": [
       "<Table length=121>\n",
       "     GCNS_name        GCNS_RA     GCNS_DEC  ... is_in_GaiaESO   GaiaESO_name  \n",
       "                        deg         deg     ...                               \n",
       "       int64          float64     float64   ...     int64          object     \n",
       "------------------- ----------- ----------- ... ------------- ----------------\n",
       "2336728947968831104   1.8871494 -23.8183163 ...             1 00073283-2349062\n",
       "2445242288839432704   2.5260238  -3.3400922 ...             1 00100625-0320247\n",
       "4918806107423681920   4.6915643 -57.6499893 ...             1 00184592-5738599\n",
       "2528577058247110784   7.5079263  -3.4888476 ...             1 00300188-0329196\n",
       "5001454888951528704  15.0923768 -36.9642585 ...             1 01002215-3657513\n",
       "2584834502690477312  16.5533881  13.2526955 ...             1 01061278+1315096\n",
       "2531223307857060096  17.7622438  -3.5432802 ...             1 01110292-0332351\n",
       "4983718632524887936  19.7219476  -42.460977 ...             1 01185326-4227395\n",
       "4933763008912052608  20.2000862 -47.0698809 ...             1 01204794-4704114\n",
       "                ...         ...         ... ...           ...              ...\n",
       "2621235553114746112 337.4825553  -8.4190754 ...             1 22295580-0825086\n",
       "2595795289294541440 337.4952552 -16.4690715 ...             1 22295886-1628087\n",
       "2601277488630223104 337.5069119 -12.9151184 ...             1 22300166-1254544\n",
       "2623432407411715712 340.0518203  -6.5346231 ...             1 22401243-0632046\n",
       "1887488288072054656 340.4391608  29.3075127 ...             1 22414540+2918271\n",
       "2635385816792952960 347.5516496  -4.9115875 ...             1 23101239-0454414\n",
       "6492009884433939968 349.9742965 -59.9729554 ...             1 23195383-5958225\n",
       "6527032220295662208 350.0302606 -48.1409433 ...             1 23200724-4808273\n",
       "2434157051262295936 353.9675176 -10.0259385 ...             1 23355223-1001330\n",
       "2419060687894130432 359.0842364  -14.928217 ...             1 23562019-1455414"
      ]
     },
     "execution_count": 17,
     "metadata": {},
     "output_type": "execute_result"
    }
   ],
   "source": [
    "catalog_summary[catalog_summary['is_in_GaiaESO']==1]"
   ]
  },
  {
   "cell_type": "code",
   "execution_count": 18,
   "id": "272b9ae7",
   "metadata": {},
   "outputs": [],
   "source": [
    "# === 1) Make SkyCoord for NEID, with clean data ===\n",
    "neid_c = SkyCoord(np.array(neid_clean['qra']), np.array(neid_clean['qdec']), unit=(u.hourangle, u.deg))\n",
    "nok = np.isfinite(neid_c.ra) & np.isfinite(neid_c.dec)\n",
    "neid_c = neid_c[nok]\n",
    "\n",
    "# === 2) Match GCNS to NEID ===\n",
    "idx_neid, d2d_neid, _ = GCNS_C.match_to_catalog_sky(neid_c)\n",
    "\n",
    "# === 3) Limit to matches within 2 arcsec (or your desired threshold) ===\n",
    "matches_neid = d2d_neid < 2 * u.arcsec\n",
    "\n",
    "# === 4) Prepare columns ===\n",
    "is_in_NEID = np.zeros(len(gcns), dtype=int)\n",
    "NEID_name = np.full(len(gcns), np.nan, dtype=object)  # or use '' instead of np.nan if you prefer strings\n",
    "\n",
    "# === 5) Fill matched rows ===\n",
    "is_in_NEID[matches_neid] = 1\n",
    "NEID_name[matches_neid] = neid_clean['object'][nok][idx_neid[matches_neid]]\n",
    "\n",
    "# === 6) Add to summary table ===\n",
    "catalog_summary['is_in_NEID'] = is_in_NEID\n",
    "catalog_summary['NEID_name'] = NEID_name"
   ]
  },
  {
   "cell_type": "code",
   "execution_count": 19,
   "id": "e63a4411",
   "metadata": {},
   "outputs": [],
   "source": [
    "# === 2) Build SkyCoord in decimal degrees ===\n",
    "hires_c = SkyCoord(hires_clean['ra']*u.deg, hires_clean['dec']*u.deg, frame='icrs')\n",
    "\n",
    "# === 3) Match GCNS to HIRES ===\n",
    "idx_hires, d2d_hires, _ = GCNS_C.match_to_catalog_sky(hires_c)\n",
    "\n",
    "# === 4) Limit to matches within e.g. 2 arcsec ===\n",
    "matches_hires = d2d_hires < 2 * u.arcsec\n",
    "\n",
    "# === 5) Prepare columns ===\n",
    "is_in_HIRES = np.zeros(len(gcns), dtype=int)\n",
    "HIRES_name = np.full(len(gcns), np.nan, dtype=object)\n",
    "\n",
    "# === 6) Fill matched rows ===\n",
    "# Adjust the column name 'object' to whatever your HIRES ID column is!\n",
    "is_in_HIRES[matches_hires] = 1\n",
    "HIRES_name[matches_hires] = hires_clean['ofname'][idx_hires[matches_hires]]\n",
    "\n",
    "# === 7) Add to catalog_summary ===\n",
    "catalog_summary['is_in_HIRES'] = is_in_HIRES\n",
    "catalog_summary['HIRES_name'] = HIRES_name"
   ]
  },
  {
   "cell_type": "code",
   "execution_count": 20,
   "id": "96aa381e",
   "metadata": {},
   "outputs": [],
   "source": [
    "# === 2) Build SkyCoord for HARPS in decimal degrees ===\n",
    "harps_c = SkyCoord(harps['RA_deg'] * u.deg, harps['Dec_deg'] * u.deg, frame='icrs')\n",
    "\n",
    "# === 3) Match GCNS to HARPS ===\n",
    "idx_harps, d2d_harps, _ = GCNS_C.match_to_catalog_sky(harps_c)\n",
    "\n",
    "# === 4) Limit to matches within e.g. 2 arcsec ===\n",
    "matches_harps = d2d_harps < 2 * u.arcsec\n",
    "\n",
    "# === 5) Prepare columns ===\n",
    "is_in_HARPS = np.zeros(len(gcns), dtype=int)\n",
    "HARPS_name = np.full(len(gcns), np.nan, dtype=object)\n",
    "\n",
    "# === 6) Fill matched rows ===\n",
    "# Adjust the ID column to whatever identifies the HARPS object; I’ll assume 'Name' here:\n",
    "is_in_HARPS[matches_harps] = 1\n",
    "HARPS_name[matches_harps] = harps['Name'][idx_harps[matches_harps]]\n",
    "\n",
    "# === 7) Add to catalog_summary ===\n",
    "catalog_summary['is_in_HARPS'] = is_in_HARPS\n",
    "catalog_summary['HARPS_name'] = HARPS_name"
   ]
  },
  {
   "cell_type": "code",
   "execution_count": 21,
   "id": "ade834b5",
   "metadata": {},
   "outputs": [],
   "source": [
    "apogee_C = SkyCoord(ra=apogee['RA']*u.degree, dec=apogee['DEC']*u.degree)\n",
    "\n",
    "# 1) Use match_to_catalog_sky \n",
    "idx, d2d, _ = GCNS_C.match_to_catalog_sky(apogee_C)\n",
    "\n",
    "# 2) Limit to matches within 2 arcsec\n",
    "matches = d2d < 2 * u.arcsec\n",
    "\n",
    "# 3) Prepare arrays\n",
    "is_in_APOGEE = np.zeros(len(gcns), dtype=int)\n",
    "APOGEE_name = np.full(len(gcns), np.nan, dtype=object)\n",
    "\n",
    "# 4) Fill only for matched rows\n",
    "is_in_APOGEE[matches] = 1\n",
    "APOGEE_name[matches] = apogee['APOGEE_ID'][idx[matches]]\n",
    "\n",
    "# 5) Store in new copy\n",
    "catalog_summary['is_in_APOGEE'] = is_in_APOGEE\n",
    "catalog_summary['APOGEE_name'] = APOGEE_name"
   ]
  },
  {
   "cell_type": "code",
   "execution_count": 22,
   "id": "f820cdc3",
   "metadata": {},
   "outputs": [
    {
     "data": {
      "text/plain": [
       "733900"
      ]
     },
     "execution_count": 22,
     "metadata": {},
     "output_type": "execute_result"
    }
   ],
   "source": [
    "catalog_summary[catalog_summary['is_in_APOGEE']==1]\n",
    "len(apogee)"
   ]
  },
  {
   "cell_type": "code",
   "execution_count": 23,
   "id": "9777029c",
   "metadata": {},
   "outputs": [
    {
     "data": {
      "text/html": [
       "<i>Table length=5</i>\n",
       "<table id=\"table140090471610448\" class=\"table-striped table-bordered table-condensed\">\n",
       "<thead><tr><th>GCNS_name</th><th>GCNS_RA</th><th>GCNS_DEC</th><th>Dist50</th><th>Gmag</th><th>BPmag</th><th>RPmag</th><th>is_in_GaiaESO</th><th>GaiaESO_name</th><th>is_in_NEID</th><th>NEID_name</th><th>is_in_HIRES</th><th>HIRES_name</th><th>is_in_HARPS</th><th>HARPS_name</th><th>is_in_APOGEE</th><th>APOGEE_name</th></tr></thead>\n",
       "<thead><tr><th></th><th>deg</th><th>deg</th><th>kpc</th><th>mag</th><th>mag</th><th>mag</th><th></th><th></th><th></th><th></th><th></th><th></th><th></th><th></th><th></th><th></th></tr></thead>\n",
       "<thead><tr><th>int64</th><th>float64</th><th>float64</th><th>float64</th><th>float64</th><th>float64</th><th>float64</th><th>int64</th><th>object</th><th>int64</th><th>object</th><th>int64</th><th>object</th><th>int64</th><th>object</th><th>int64</th><th>object</th></tr></thead>\n",
       "<tr><td>3339921875389105152</td><td>84.1291143</td><td>11.3276183</td><td>0.01142</td><td>8.1951</td><td>9.0827</td><td>7.2668</td><td>1</td><td>05363097+1119395</td><td>1</td><td>HD 245409</td><td>1</td><td>hires0109.fits</td><td>1</td><td>GJ208</td><td>0</td><td>nan</td></tr>\n",
       "<tr><td>614543647497149056</td><td>145.2901548</td><td>13.208926</td><td>0.01154</td><td>9.4426</td><td>10.608</td><td>8.3671</td><td>1</td><td>09410971+1312324</td><td>1</td><td>TIC 307646256</td><td>1</td><td>hires0073.fits</td><td>0</td><td>nan</td><td>0</td><td>nan</td></tr>\n",
       "<tr><td>4017860992519744384</td><td>175.5506755</td><td>26.702954</td><td>0.00978</td><td>9.582</td><td>10.893</td><td>8.4438</td><td>1</td><td>11421213+2642109</td><td>1</td><td>TIC 138819293</td><td>1</td><td>hires0226.fits</td><td>0</td><td>nan</td><td>0</td><td>nan</td></tr>\n",
       "<tr><td>6322070093095493504</td><td>229.8563013</td><td>-7.722707</td><td>0.0063</td><td>9.4218</td><td>10.8134</td><td>8.2518</td><td>1</td><td>15192557-0743217</td><td>1</td><td>TIC 36853511</td><td>1</td><td>hires0137.fits</td><td>0</td><td>nan</td><td>0</td><td>nan</td></tr>\n",
       "<tr><td>4345775217221821312</td><td>243.9063361</td><td>-8.3716412</td><td>0.01414</td><td>5.3277</td><td>5.6549</td><td>4.8379</td><td>1</td><td>16153746-0822162</td><td>1</td><td>HD 146233</td><td>1</td><td>hires0145.fits</td><td>0</td><td>nan</td><td>0</td><td>nan</td></tr>\n",
       "</table>"
      ],
      "text/plain": [
       "<Table length=5>\n",
       "     GCNS_name        GCNS_RA    GCNS_DEC  ... is_in_APOGEE APOGEE_name\n",
       "                        deg        deg     ...                         \n",
       "       int64          float64    float64   ...    int64        object  \n",
       "------------------- ----------- ---------- ... ------------ -----------\n",
       "3339921875389105152  84.1291143 11.3276183 ...            0         nan\n",
       " 614543647497149056 145.2901548  13.208926 ...            0         nan\n",
       "4017860992519744384 175.5506755  26.702954 ...            0         nan\n",
       "6322070093095493504 229.8563013  -7.722707 ...            0         nan\n",
       "4345775217221821312 243.9063361 -8.3716412 ...            0         nan"
      ]
     },
     "execution_count": 23,
     "metadata": {},
     "output_type": "execute_result"
    }
   ],
   "source": [
    "catalog_summary[\n",
    "    (catalog_summary['is_in_HIRES'] == 1) & \n",
    "    (catalog_summary['is_in_NEID'] == 1) &\n",
    "    (catalog_summary['is_in_GaiaESO'] == 1)\n",
    "]"
   ]
  },
  {
   "cell_type": "markdown",
   "id": "649b8e47",
   "metadata": {},
   "source": [
    "## Plot Coverage vs Distance"
   ]
  },
  {
   "cell_type": "code",
   "execution_count": null,
   "id": "12d2d641",
   "metadata": {},
   "outputs": [],
   "source": [
    "catalog_summary = catalog_summary.to_pandas()\n"
   ]
  },
  {
   "cell_type": "code",
   "execution_count": null,
   "id": "3a6a06b6",
   "metadata": {},
   "outputs": [
    {
     "name": "stdout",
     "output_type": "stream",
     "text": [
      "Catalog flag columns: ['is_in_GaiaESO', 'is_in_NEID', 'is_in_HIRES', 'is_in_HARPS', 'is_in_APOGEE']\n"
     ]
    },
    {
     "data": {
      "image/png": "[encoded data removed]",
      "text/plain": [
       "<Figure size 576x432 with 1 Axes>"
      ]
     },
     "metadata": {
      "needs_background": "light"
     },
     "output_type": "display_data"
    }
   ],
   "source": [
    "# === 2) Identify the catalog flag columns ===\n",
    "# Example: they are named like 'is_in_HIRES', 'is_in_NEID', etc.\n",
    "catalog_flags = [col for col in catalog_summary.columns if col.startswith('is_in_')]\n",
    "\n",
    "print(\"Catalog flag columns:\", catalog_flags)\n",
    "\n",
    "# === 3) Make a new column: does each row have any match? ===\n",
    "catalog_summary['any_match'] = catalog_summary[catalog_flags].any(axis=1).astype(int)\n",
    "\n",
    "# === 4) Define distance bins (in kpc) ===\n",
    "bins = np.arange(0, catalog_summary['Dist50'].max() + 0.005, 0.005)\n",
    "\n",
    "# === 5) For each bin, compute % of total GCNS with a match ===\n",
    "percent_matches = []\n",
    "for b in bins:\n",
    "    within = catalog_summary[catalog_summary['Dist50'] <= b]\n",
    "    if len(within) > 0:\n",
    "        percent = within['any_match'].sum() / len(catalog_summary) * 100\n",
    "    else:\n",
    "        percent = 0\n",
    "    percent_matches.append(percent)\n",
    "\n",
    "# === 6) Plot ===\n",
    "plt.figure(figsize=(8, 6))\n",
    "plt.plot(bins, percent_matches, marker='o')\n",
    "plt.xlabel('Distance (kpc)')\n",
    "plt.ylabel('Number of Cross Matches (% of total GCNS)')\n",
    "plt.title('Cumulative Cross Matches vs Distance (All)')\n",
    "plt.grid(True)\n",
    "plt.show()"
   ]
  },
  {
   "cell_type": "code",
   "execution_count": 28,
   "id": "22273218",
   "metadata": {},
   "outputs": [
    {
     "data": {
      "text/plain": [
       "0.11931"
      ]
     },
     "execution_count": 28,
     "metadata": {},
     "output_type": "execute_result"
    }
   ],
   "source": [
    "catalog_summary['Dist50'].max()"
   ]
  },
  {
   "cell_type": "code",
   "execution_count": null,
   "id": "c91d38f7",
   "metadata": {},
   "outputs": [],
   "source": []
  }
 ],
 "metadata": {
  "kernelspec": {
   "display_name": "base",
   "language": "python",
   "name": "python3"
  },
  "language_info": {
   "codemirror_mode": {
    "name": "ipython",
    "version": 3
   },
   "file_extension": ".py",
   "mimetype": "text/x-python",
   "name": "python",
   "nbconvert_exporter": "python",
   "pygments_lexer": "ipython3",
   "version": "3.7.6"
  }
 },
 "nbformat": 4,
 "nbformat_minor": 5
}
