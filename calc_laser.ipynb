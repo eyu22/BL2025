{
 "cells": [
  {
   "cell_type": "code",
   "execution_count": 10,
   "id": "d6b7fa20",
   "metadata": {},
   "outputs": [],
   "source": [
    "#%matplotlib widget\n",
    "import numpy as np\n",
    "import astropy.units as u\n",
    "from astropy import constants as const\n",
    "from astropy.io import fits\n",
    "import matplotlib.pyplot as plt\n",
    "from specmatchemp import spectrum\n",
    "import specmatchemp.library\n",
    "from specmatchemp.specmatch import SpecMatch"
   ]
  },
  {
   "cell_type": "markdown",
   "id": "8b803e2b",
   "metadata": {},
   "source": [
    "## Compute AMD using SpecMatch-Emp for GALAH spectra"
   ]
  },
  {
   "cell_type": "code",
   "execution_count": 11,
   "id": "26b8a8dc",
   "metadata": {},
   "outputs": [
    {
     "name": "stdout",
     "output_type": "stream",
     "text": [
      "Reading library from /home/emmay/.specmatchemp/library.h5\n",
      "Shifting spectrum\n",
      "Shifting spectrum MyGALAHstar\n"
     ]
    },
    {
     "ename": "IndexError",
     "evalue": "index 0 is out of bounds for axis 1 with size 0",
     "output_type": "error",
     "traceback": [
      "\u001b[31m---------------------------------------------------------------------------\u001b[39m",
      "\u001b[31mIndexError\u001b[39m                                Traceback (most recent call last)",
      "\u001b[36mCell\u001b[39m\u001b[36m \u001b[39m\u001b[32mIn[11]\u001b[39m\u001b[32m, line 12\u001b[39m\n\u001b[32m      9\u001b[39m sm = SpecMatch(galah_spec, lib)\n\u001b[32m     11\u001b[39m \u001b[38;5;66;03m# Shift your spectrum to library rest wavelengths\u001b[39;00m\n\u001b[32m---> \u001b[39m\u001b[32m12\u001b[39m \u001b[43msm\u001b[49m\u001b[43m.\u001b[49m\u001b[43mshift\u001b[49m\u001b[43m(\u001b[49m\u001b[43m)\u001b[49m\n\u001b[32m     14\u001b[39m \u001b[38;5;66;03m# Perform the spectral match\u001b[39;00m\n\u001b[32m     15\u001b[39m sm.match(wavlim=(\u001b[32m5140\u001b[39m,\u001b[32m5200\u001b[39m))\n",
      "\u001b[36mFile \u001b[39m\u001b[32m~/my_custom_env/lib/python3.12/site-packages/specmatchemp/specmatch.py:149\u001b[39m, in \u001b[36mSpecMatch.shift\u001b[39m\u001b[34m(self)\u001b[39m\n\u001b[32m    146\u001b[39m             shift_specs.append(\u001b[38;5;28mself\u001b[39m.lib.get_spectrum(idx))\n\u001b[32m    148\u001b[39m \u001b[38;5;66;03m# Use the bootstrap shift approach\u001b[39;00m\n\u001b[32m--> \u001b[39m\u001b[32m149\u001b[39m \u001b[38;5;28mself\u001b[39m.target = \u001b[43mshift\u001b[49m\u001b[43m.\u001b[49m\u001b[43mbootstrap_shift\u001b[49m\u001b[43m(\u001b[49m\u001b[38;5;28;43mself\u001b[39;49m\u001b[43m.\u001b[49m\u001b[43mtarget_unshifted\u001b[49m\u001b[43m,\u001b[49m\u001b[43m \u001b[49m\u001b[43mshift_specs\u001b[49m\u001b[43m,\u001b[49m\n\u001b[32m    150\u001b[39m \u001b[43m                                    \u001b[49m\u001b[43mstore\u001b[49m\u001b[43m=\u001b[49m\u001b[38;5;28;43mself\u001b[39;49m\u001b[43m.\u001b[49m\u001b[43mshift_data\u001b[49m\u001b[43m)\u001b[49m\n\u001b[32m    152\u001b[39m \u001b[38;5;28mself\u001b[39m.shift_ref = shift_specs[\u001b[38;5;28mself\u001b[39m.shift_data[\u001b[33m'\u001b[39m\u001b[33mshift_reference\u001b[39m\u001b[33m'\u001b[39m]]\n\u001b[32m    154\u001b[39m \u001b[38;5;28mself\u001b[39m._shifted = \u001b[38;5;28;01mTrue\u001b[39;00m\n",
      "\u001b[36mFile \u001b[39m\u001b[32m~/my_custom_env/lib/python3.12/site-packages/specmatchemp/shift.py:56\u001b[39m, in \u001b[36mbootstrap_shift\u001b[39m\u001b[34m(targ, ref_list, store)\u001b[39m\n\u001b[32m     54\u001b[39m ref = ref_list[i]\n\u001b[32m     55\u001b[39m shift_data = {}\n\u001b[32m---> \u001b[39m\u001b[32m56\u001b[39m \u001b[43mshift\u001b[49m\u001b[43m(\u001b[49m\u001b[43mtarg_cut\u001b[49m\u001b[43m,\u001b[49m\u001b[43m \u001b[49m\u001b[43mref\u001b[49m\u001b[43m,\u001b[49m\u001b[43m \u001b[49m\u001b[43mstore\u001b[49m\u001b[43m=\u001b[49m\u001b[43mshift_data\u001b[49m\u001b[43m)\u001b[49m\n\u001b[32m     58\u001b[39m \u001b[38;5;66;03m# get correlation peaks\u001b[39;00m\n\u001b[32m     59\u001b[39m num_sects = shift_data[\u001b[33m'\u001b[39m\u001b[33morder_0/num_sections\u001b[39m\u001b[33m'\u001b[39m]\n",
      "\u001b[36mFile \u001b[39m\u001b[32m~/my_custom_env/lib/python3.12/site-packages/specmatchemp/shift.py:113\u001b[39m, in \u001b[36mshift\u001b[39m\u001b[34m(targ, ref, store, lowfilter)\u001b[39m\n\u001b[32m    110\u001b[39m     w = np.array([w])\n\u001b[32m    111\u001b[39m     mask = np.array([mask])\n\u001b[32m--> \u001b[39m\u001b[32m113\u001b[39m ref = _extend_ref(ref, \u001b[43mw\u001b[49m\u001b[43m[\u001b[49m\u001b[32;43m0\u001b[39;49m\u001b[43m,\u001b[49m\u001b[43m \u001b[49m\u001b[32;43m0\u001b[39;49m\u001b[43m]\u001b[49m, w[-\u001b[32m1\u001b[39m, -\u001b[32m1\u001b[39m])\n\u001b[32m    115\u001b[39m \u001b[38;5;66;03m# normalize each order of the target spectrum by dividing by the\u001b[39;00m\n\u001b[32m    116\u001b[39m \u001b[38;5;66;03m# 95th percentile\u001b[39;00m\n\u001b[32m    117\u001b[39m percen_order = np.nanpercentile(s, \u001b[32m95\u001b[39m, axis=\u001b[32m1\u001b[39m)\n",
      "\u001b[31mIndexError\u001b[39m: index 0 is out of bounds for axis 1 with size 0"
     ]
    }
   ],
   "source": [
    "# Load spectral library (e.g. Mg b region)\n",
    "lib = specmatchemp.library.read_hdf(wavlim=[5140,5200])\n",
    "\n",
    "# Load your observed GALAH spectrum, then crop to library wavelength range\n",
    "galah_spec = spectrum.read_hires_fits('/datax/scratch/emmay/galah_spectra/161116001701343_R.fits').cut(5130, 5210)\n",
    "galah_spec.name = 'MyGALAHstar'\n",
    "\n",
    "# Initialize SpecMatch with your spectrum and the library\n",
    "sm = SpecMatch(galah_spec, lib)\n",
    "\n",
    "# Shift your spectrum to library rest wavelengths\n",
    "sm.shift()\n",
    "\n",
    "# Perform the spectral match\n",
    "sm.match(wavlim=(5140,5200))\n",
    "\n",
    "# Compute a linear combination of best matches for best fit\n",
    "sm.lincomb()\n",
    "\n",
    "# Access derived stellar parameters\n",
    "print(\"Teff:\", sm.results['Teff'])\n",
    "print(\"Radius:\", sm.results['radius'])\n",
    "print(\"[Fe/H]:\", sm.results['feh'])\n",
    "\n",
    "# Calculate residuals between observed and best-fit model\n",
    "residuals = galah_spec.flux - sm.lincomb_spectrum.flux\n"
   ]
  },
  {
   "cell_type": "code",
   "execution_count": 3,
   "id": "c057694a",
   "metadata": {},
   "outputs": [],
   "source": [
    "#Zuckerman (9)\n",
    "def calc_laser_l(alpha, AMD, lambda_l, d_E, epsilon, del_t, N_obs, A_APF, d_T):\n",
    "    numerator = 1.22**2*alpha*np.pi*const.h*const.c*AMD*lambda_l*d_E**2\n",
    "    denominator = 4*epsilon*del_t*N_obs*A_APF*d_T**2\n",
    "    return numerator/denominator"
   ]
  },
  {
   "cell_type": "markdown",
   "id": "f3208b7f",
   "metadata": {},
   "source": [
    "### APF Laser Detection Threshold"
   ]
  },
  {
   "cell_type": "code",
   "execution_count": 4,
   "id": "1747e647",
   "metadata": {},
   "outputs": [
    {
     "data": {
      "text/latex": [
       "$55.737461 \\; \\mathrm{kW}$"
      ],
      "text/plain": [
       "<Quantity 55.73746051 kW>"
      ]
     },
     "execution_count": 4,
     "metadata": {},
     "output_type": "execute_result"
    }
   ],
   "source": [
    "# N_obs=5?\n",
    "calc_laser_l(alpha=6, AMD=414.78, lambda_l=(5000*u.AA).to(u.m), d_E=(78.47*u.lyr).to(u.m), epsilon=0.05, del_t=730*u.s, N_obs=3, A_APF=4.53*u.m**2, d_T=2.4*u.m).to('kW')"
   ]
  },
  {
   "cell_type": "markdown",
   "id": "0af2455b",
   "metadata": {},
   "source": [
    "### GALAH Laser Detection Threshold"
   ]
  },
  {
   "cell_type": "code",
   "execution_count": null,
   "id": "11fa94e9",
   "metadata": {},
   "outputs": [],
   "source": [
    "# N_obs=5?\n",
    "calc_laser_l(alpha=6, AMD=414.78, lambda_l=(5000*u.AA).to(u.m), d_E=(100*u.pc).to(u.m), epsilon=0.05, del_t=730*u.s, N_obs=1, A_APF=4.53*u.m**2, d_T=2.4*u.m).to('kW')"
   ]
  }
 ],
 "metadata": {
  "kernelspec": {
   "display_name": "Python (specmatch)",
   "language": "python",
   "name": "my_custom_env"
  },
  "language_info": {
   "codemirror_mode": {
    "name": "ipython",
    "version": 3
   },
   "file_extension": ".py",
   "mimetype": "text/x-python",
   "name": "python",
   "nbconvert_exporter": "python",
   "pygments_lexer": "ipython3",
   "version": "3.12.3"
  }
 },
 "nbformat": 4,
 "nbformat_minor": 5
}
