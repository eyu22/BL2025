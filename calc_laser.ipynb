{
 "cells": [
  {
   "cell_type": "code",
   "execution_count": 1,
   "id": "d6b7fa20",
   "metadata": {},
   "outputs": [],
   "source": [
    "#%matplotlib widget\n",
    "import numpy as np\n",
    "import astropy.units as u\n",
    "from astropy import constants as const\n",
    "import matplotlib.pyplot as plt"
   ]
  },
  {
   "cell_type": "code",
   "execution_count": 3,
   "id": "c057694a",
   "metadata": {},
   "outputs": [],
   "source": [
    "#Zuckerman (9)\n",
    "def calc_laser_l(alpha, AMD, lambda_l, d_E, epsilon, del_t, N_obs, A_APF, d_T):\n",
    "    numerator = 1.22**2*alpha*np.pi*const.h*const.c*AMD*lambda_l*d_E**2\n",
    "    denominator = 4*epsilon*del_t*N_obs*A_APF*d_T**2\n",
    "    return numerator/denominator"
   ]
  },
  {
   "cell_type": "markdown",
   "id": "f3208b7f",
   "metadata": {},
   "source": [
    "### APF Laser Detection Threshold"
   ]
  },
  {
   "cell_type": "code",
   "execution_count": 4,
   "id": "1747e647",
   "metadata": {},
   "outputs": [
    {
     "data": {
      "text/latex": [
       "$55.737461 \\; \\mathrm{kW}$"
      ],
      "text/plain": [
       "<Quantity 55.73746051 kW>"
      ]
     },
     "execution_count": 4,
     "metadata": {},
     "output_type": "execute_result"
    }
   ],
   "source": [
    "# N_obs=5?\n",
    "calc_laser_l(alpha=6, AMD=414.78, lambda_l=(5000*u.AA).to(u.m), d_E=(78.47*u.lyr).to(u.m), epsilon=0.05, del_t=730*u.s, N_obs=3, A_APF=4.53*u.m**2, d_T=2.4*u.m).to('kW')"
   ]
  },
  {
   "cell_type": "markdown",
   "id": "0af2455b",
   "metadata": {},
   "source": [
    "### GALAH Laser Detection Threshold"
   ]
  },
  {
   "cell_type": "code",
   "execution_count": null,
   "id": "11fa94e9",
   "metadata": {},
   "outputs": [],
   "source": [
    "# N_obs=5?\n",
    "calc_laser_l(alpha=6, AMD=414.78, lambda_l=(5000*u.AA).to(u.m), d_E=(100*u.pc).to(u.m), epsilon=0.05, del_t=730*u.s, N_obs=1, A_APF=4.53*u.m**2, d_T=2.4*u.m).to('kW')"
   ]
  }
 ],
 "metadata": {
  "kernelspec": {
   "display_name": "my_custom_env",
   "language": "python",
   "name": "python3"
  },
  "language_info": {
   "codemirror_mode": {
    "name": "ipython",
    "version": 3
   },
   "file_extension": ".py",
   "mimetype": "text/x-python",
   "name": "python",
   "nbconvert_exporter": "python",
   "pygments_lexer": "ipython3",
   "version": "3.12.3"
  }
 },
 "nbformat": 4,
 "nbformat_minor": 5
}
